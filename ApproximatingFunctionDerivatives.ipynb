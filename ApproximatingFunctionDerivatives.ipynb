{
 "cells": [
  {
   "cell_type": "markdown",
   "metadata": {
    "slideshow": {
     "slide_type": "slide"
    }
   },
   "source": [
    "# Approximating Function Derivatives\n",
    "\n",
    "General idea: We want to compute $f'(x)$ of $f(x)$ on $[a,b]$.\n",
    "\n",
    "- Define nodes: $[x_{0},\\cdots,x_{n}]$ such that $x_{0}=a$ and $x_{n}=b$ and $x_{k+1} = x_{k}+h$ ($k=0,\\cdots,n-1$) and $h=(b-a)/n$.\n",
    "- Then, we approximate $f'(x)$ using the nodal values $\\{f(x_{k})\\}$ as\n",
    "\\begin{equation}\n",
    "   h\\sum_{k=-m}^{m} \\alpha_{k}u_{i-k} = \\sum_{k=-m'}^{m'}\\beta_{k}f(x_{i-k}),\n",
    "\\end{equation}\n",
    "where $\\{\\alpha_{k}\\}$, $\\{\\beta_{k}\\} \\in \\mathbb{R}$ are coefficients to be determined and $u_{k}$ is the desired approximation to $f'(x_{k})$.\n",
    "- The set of nodes involved in constructing $f'(x)$ at a certain node is call **stencil**.\n",
    "    - The band of the matrix associated with the above system increases as the stencil gets larger."
   ]
  },
  {
   "cell_type": "markdown",
   "metadata": {
    "slideshow": {
     "slide_type": "slide"
    }
   },
   "source": [
    "## Classical finite difference\n",
    "\n",
    "Key feature of finite difference is that a derivative is directly approximated with an **algebraic expression of known function values** at the nodes.\n",
    "\n",
    "\\begin{equation}\n",
    "  f'(x_{i}) := \\lim_{h\\rightarrow 0+}\\frac{f(x_{i}+h)-f(x_{i})}{h}\n",
    "\\end{equation}\n",
    "\n",
    "\\begin{equation}\n",
    "  u_{i}^{\\text{FD}} = \\frac{f(x_{i+1})-f(x_{i})}{h},\\ 0 \\le i \\le n-1.\n",
    "\\end{equation}\n",
    "\\begin{equation}\n",
    "    \\Longleftrightarrow\n",
    "  \\begin{matrix}\n",
    "   m=0\\ \\alpha_{0}=1 \\\\\n",
    "   m'=1 \\\\\n",
    "   \\{\\beta_{-1}, \\beta_{0}, \\beta_{1}\\} = \\{1,-1,0\\}\n",
    "  \\end{matrix}\n",
    "\\end{equation}"
   ]
  },
  {
   "cell_type": "markdown",
   "metadata": {
    "slideshow": {
     "slide_type": "subslide"
    }
   },
   "source": [
    "\\begin{align}\n",
    "f(x_{i+1}) &= f(x_{i}+h) = f(x_{i}) + h f'(x_{i}) + \\frac{h^{2}}{2!}f''(x_{i}) + \\frac{h^{3}}{3!}f'''(x_{i}) + \\cdots \\quad (1)\\\\\n",
    "f'_{i} &= \\underbrace{\\frac{f_{i+1}-f_{i}}{h}}_{\\equiv u_{i}^{\\text{FD}}} - \\frac{h}{2!}f''(x_{i}) - \\frac{h^{2}}{3!}f'''(x_{i}) + \\cdots \\\\\n",
    "\\therefore f'_{i}-u_{i}^{\\text{FD}} &= - \\frac{h}{2!}f''(x_{i}) - \\frac{h^{2}}{3!}f'''(x_{i}) + \\cdots = O(h),\n",
    "\\end{align}\n",
    "where the superscript 'FD' denotes **forward difference**."
   ]
  },
  {
   "cell_type": "markdown",
   "metadata": {
    "slideshow": {
     "slide_type": "subslide"
    }
   },
   "source": [
    "Similarly,\n",
    "\\begin{align}\n",
    "f(x_{i-1}) &= f(x_{i}-h) = f(x_{i}) - h f'(x_{i}) + \\frac{h^{2}}{2!}f''(x_{i}) - \\frac{h^{3}}{3!}f'''(x_{i}) + \\cdots \\quad (2) \\\\\n",
    "f'_{i} &= \\underbrace{\\frac{f_{i}-f_{i-1}}{h}}_{\\equiv u_{i}^{\\text{BD}}} + \\frac{h}{2!}f''(x_{i}) - \\frac{h^{2}}{3!}f'''(x_{i}) + \\cdots \\\\\n",
    "\\therefore f'_{i}-u_{i}^{\\text{BD}} &= \\frac{h}{2!}f''(x_{i}) - \\frac{h^{2}}{3!}f'''(x_{i}) + \\cdots = O(h),\n",
    "\\end{align}\n",
    "where the superscript 'BD' denotes **backward difference**."
   ]
  },
  {
   "cell_type": "markdown",
   "metadata": {
    "slideshow": {
     "slide_type": "subslide"
    }
   },
   "source": [
    "(1)$-$(2) $\\rightarrow$\n",
    "\\begin{align}\n",
    "f_{i+1} - f_{i-1} &= 2 h f'(x_{i}) + \\frac{h^{3}}{3}f'''(x_{i}) + \\cdots \\quad (2) \\\\\n",
    "f'_{i} &= \\underbrace{\\frac{f_{i+1}-f_{i-1}}{2h}}_{\\equiv u_{i}^{\\text{CD}}} - \\frac{h^{2}}{6}f'''(\\xi) + \\cdots \\quad (\\xi \\in [x_{i-1},x_{i+1}]) \\\\\n",
    "       &= u_{i}^{\\text{CD}} + O(h^{2}),\n",
    "\\end{align}\n",
    "where the superscript 'CD' denotes **central difference**.\n",
    "\n",
    "<img src=\"Quarteroni_Fig10.4.png\" width=\"600\">"
   ]
  },
  {
   "cell_type": "markdown",
   "metadata": {
    "slideshow": {
     "slide_type": "subslide"
    }
   },
   "source": [
    "- Second order derivative: (1)$+$(2) $\\rightarrow$\n",
    "\\begin{equation}\n",
    "f_{i+1} -2f_{i} + f_{i-1} = h^{2}f''(x_{i}) + O(h^{4})\n",
    "\\end{equation}\n",
    "\n",
    "\\begin{equation}\n",
    "\\therefore u''_{i} = \\frac{f_{i+1}-2f_{i} + f_{i-1}}{h^{2}} + O(h^{2}).\n",
    "\\end{equation}"
   ]
  },
  {
   "cell_type": "markdown",
   "metadata": {
    "slideshow": {
     "slide_type": "slide"
    }
   },
   "source": [
    "## Generalized Fourier Series\n",
    "\n",
    "- An alternative to FD is to take derivative of interpolating polynomials.\n",
    "- Recall Lagrange interpolation, for instance.\n",
    "    - Lagrange polynomial has known instability w.r.t. equally space nodes and high degree.\n",
    "    - Of course, it is carried over to the derivatives.\n",
    "- Piecewise interpolation is a solution we learned\n",
    "    - Equally spaced nodes but the degree kept low\n",
    "    - This is the basis for the family of **finite element method**.\n",
    "- In contrast, we can turn to **non-uniformly distributed nodes** releasing the restiriction on the polynomial degree.\n",
    "    - This is the basis for **spectral element method**."
   ]
  },
  {
   "cell_type": "markdown",
   "metadata": {
    "slideshow": {
     "slide_type": "subslide"
    }
   },
   "source": [
    "### Some pre-requisites for generalized Fourier series\n",
    "Let $w = w(x)$ be a *weight function* on the interval $(-1,1)$.\n",
    "\n",
    "$\\{ p_{k},\\ k=0,1,\\ldots \\}$: A system of algebraic polynomials, with $p_{k}$ of degree equal to $k$ and **mutually orthogonal** on the interval $(-1,1)$ w.r.t. $w$: i.e., \n",
    "\\begin{equation}\n",
    "\\int_{-1}^{1}p_{k}(x)p_{m}(x)w(x)dx = 0 \\text{ if } k\\neq m.\n",
    "\\end{equation}"
   ]
  },
  {
   "cell_type": "markdown",
   "metadata": {
    "slideshow": {
     "slide_type": "subslide"
    }
   },
   "source": [
    "- Scalar product of functions:\n",
    "\\begin{equation}\n",
    " (f,g)_{w} = \\int_{-1}^{1} f(x)g(x)w(x) dx\n",
    "\\end{equation}\n",
    "- Norm of a function:\n",
    "\\begin{equation}\n",
    " \\Vert f \\Vert_{w} = \\sqrt{(f,f)_{w}} = (f,f)_{w}^{1/2}\n",
    "\\end{equation}\n"
   ]
  },
  {
   "cell_type": "markdown",
   "metadata": {
    "slideshow": {
     "slide_type": "subslide"
    }
   },
   "source": [
    "Let's define the following function space:\n",
    "\\begin{equation}\n",
    "L^{2}_{w} = L^{2}_{w}(-1,1) = \\left\\{f:(-1,1) \\rightarrow \\mathbb{R} \\vert \\int_{-1}^{1} f^{2}(x)w(x)dx < \\infty \\right\\}.\n",
    "\\end{equation}\n",
    "\n",
    "**Definition**: $^\\forall f \\in L^{2}_{w}$,\n",
    "\\begin{equation}\n",
    "  Sf = \\sum_{k=0}^{+\\infty} \\hat{f}_{k}\\,p_{k} \\text{ with } \\hat{f}_{k}=\\frac{(f,p_{k})_{w}}{\\Vert p_{k} \\Vert_{w}}\n",
    "\\end{equation}\n",
    "is called **the generalized Fourier series** of $f$ and $\\hat{f}_{k}$ is the $k$-th Fourier coefficient.\n"
   ]
  },
  {
   "cell_type": "markdown",
   "metadata": {
    "slideshow": {
     "slide_type": "subslide"
    }
   },
   "source": [
    "Let's denote the series truncated at $k=n$ as $f_{n}$:\n",
    "\\begin{equation}\n",
    " f_{n}(x) = \\sum_{k=0}^{n} \\hat{f}_{k}p_{k}(x).\n",
    "\\end{equation}\n",
    "Then, we get the following result:\n",
    "\\begin{equation}\n",
    " \\lim_{n\\rightarrow +\\infty} \\left\\lVert f - f_{n} \\right\\rVert = 0.\n",
    "\\end{equation}\n"
   ]
  },
  {
   "cell_type": "markdown",
   "metadata": {
    "slideshow": {
     "slide_type": "subslide"
    }
   },
   "source": [
    "Thanks to the orthogonality of $p_{k}$'s, \n",
    "\\begin{equation}\n",
    "\\begin{split}\n",
    "  \\left\\lVert f \\right\\rVert^{2}_{w} &= (f,f)_{w} = \\int_{-1}^{1} f(x) f(x) w(x) dx \\\\\n",
    "         &= \\sum_{k=0}^{+\\infty} \\hat{f}_{k}^{2} \\left\\lVert p_{k} \\right\\rVert^{2}_{w},\n",
    "\\end{split}\n",
    "\\end{equation}\n",
    "and for any $n$,\n",
    "\\begin{equation}\n",
    " \\Vert f - f_{n} \\Vert_{w}^{2} = \\sum_{k=n+1}^{+\\infty} \\hat{f}_{k}^{2} \\left\\lVert p_{k} \\right\\rVert^{2}_{w}.\n",
    "\\end{equation}"
   ]
  },
  {
   "cell_type": "markdown",
   "metadata": {
    "slideshow": {
     "slide_type": "subslide"
    }
   },
   "source": [
    "For any family of monic (i.e., univariate polynomial with leading coefficient of +1) orthogonal polynomials $\\{ p_{k} \\}$, the following 3-term recursive formula holds:\n",
    "\\begin{equation}\n",
    "\\begin{split}\n",
    " &p_{k+1}(x) = (x-\\alpha_{k})p_{k}(x) - \\beta_{k} p_{k-1}(x), \\ k \\ge 0 \\\\\n",
    " &p_{-1}(x) = 0,\\ p_{0}(x) = 1,\n",
    "\\end{split}\n",
    "\\end{equation}\n",
    "where\n",
    "\\begin{equation}\n",
    " \\alpha_{k} = \\frac{(xp_{k},p_{k})_{w}}{(p_{k},p_{k})_{w}},\\ \\beta_{k+1} = \\frac{(p_{k+1},p_{k+1})_{w}}{(p_{k},p_{k})_{w}},\\ k \\ge 0.\n",
    "\\end{equation}\n",
    "$\\beta_{0}$ is arbitrary."
   ]
  },
  {
   "cell_type": "markdown",
   "metadata": {
    "slideshow": {
     "slide_type": "subslide"
    }
   },
   "source": [
    "### Example 1: Chebyshev polynomials\n",
    "With the weighting function\n",
    "\\begin{equation}\n",
    " w(x) = \\frac{1}{\\sqrt{1-x^{2}}} \\text{ on } (-1,1),\n",
    "\\end{equation}\n",
    "the function space we will be working on becomes\n",
    "\\begin{equation}\n",
    " L_{w}^{2}(-1,1) = \\left\\{ f:(-1,1)\\rightarrow \\mathbb{R} \\vert \\int_{-1}^{1} f^{2}(x)(1-x^{2})^{-1/2} dx < \\infty \\right\\}\n",
    "\\end{equation}\n"
   ]
  },
  {
   "cell_type": "markdown",
   "metadata": {
    "slideshow": {
     "slide_type": "subslide"
    }
   },
   "source": [
    "The Chebyshev polynomials are defined as follows:\n",
    "\\begin{equation}\n",
    " T_{k}(x) = \\cos k\\theta,\\ \\theta = \\arccos x,\\ k=0,1,2,\\cdots.\n",
    "\\end{equation}\n",
    "\n",
    "The recursive formula are\n",
    "\\begin{equation}\n",
    "\\begin{split}\n",
    " &T_{k+1}(x) = 2xT_{k}(x) - T_{k-1}(x),\\ k=1,2,\\cdots \\\\\n",
    " &T_{0}(x) = 1, T_{1}(x) = x.\n",
    "\\end{split}\n",
    "\\end{equation}\n",
    "\n",
    "#### Examples\n",
    "\\begin{equation}\n",
    "\\begin{split}\n",
    "T_{2} &= 2xT_{1}(x) - T_{0}(x) = 2x^{2}-1 \\\\\n",
    "(\\text{cf. } T_{2} &= \\cos 2\\theta = 2\\cos^{2}\\theta -1 = 2x^{2}-1) \\\\\n",
    "T_{3} &= 2xT_{2}(x) - T_{1}(x) = 2x(2x^{2}-1)-x = 4x^{3}-3x \\\\\n",
    "T_{4} &= 2xT_{3}(x) - T_{2}(x) = 2x(4x^{3}-3x)-2x^{2}+1 = 8x^{4}-8x^{2}+1 \\\\\n",
    "&\\vdots\n",
    "\\end{split}\n",
    "\\end{equation}"
   ]
  },
  {
   "cell_type": "code",
   "execution_count": 9,
   "metadata": {
    "slideshow": {
     "slide_type": "subslide"
    }
   },
   "outputs": [
    {
     "name": "stdout",
     "output_type": "stream",
     "text": [
      "101\n"
     ]
    },
    {
     "data": {
      "text/plain": [
       "<matplotlib.legend.Legend at 0x7f1f5920af10>"
      ]
     },
     "execution_count": 9,
     "metadata": {},
     "output_type": "execute_result"
    },
    {
     "data": {
      "image/png": "[encoded data removed]",
      "text/plain": [
       "<Figure size 432x288 with 1 Axes>"
      ]
     },
     "metadata": {
      "needs_background": "light"
     },
     "output_type": "display_data"
    }
   ],
   "source": [
    "import numpy as np\n",
    "import matplotlib.pyplot as plt\n",
    "\n",
    "x = np.linspace(-1,1,101)\n",
    "print(x.size)\n",
    "plt.plot(x, np.zeros(x.size),'y--')\n",
    "plt.plot(x, np.ones(x.size),'r-', label='T0')\n",
    "plt.plot(x, x, 'g-', label='T1')\n",
    "plt.plot(x,2.0*x**2-1.0,'b-', label='T2')\n",
    "plt.plot(x,4.0*x**3-3.0*x, 'k-', label='T3')\n",
    "plt.legend()"
   ]
  },
  {
   "cell_type": "markdown",
   "metadata": {
    "slideshow": {
     "slide_type": "subslide"
    }
   },
   "source": [
    "Let's verify the orthogonality of Chebyshev polynomials.\n",
    "1. $(T_{k},T_{n})_{w}=0$ if $k\\neq n$\n",
    "\\begin{equation}\n",
    " \\int_{-1}^{1} \\cos k\\theta \\cos n\\theta \\frac{1}{\\sqrt{1-x^{2}}} dx = \n",
    " \\int_{\\pi}^{2\\pi} \\cos k\\theta \\cos n\\theta \\, d\\theta,\n",
    "\\end{equation}\n",
    "where we used $\\cos \\theta = x \\Rightarrow -\\sin \\theta\\,d\\theta = dx \\Rightarrow d\\theta = \\frac{-1}{\\sqrt{1-\\cos^{2}\\theta}}dx = \\frac{-1}{\\sqrt{1-x^{2}}} dx$.\n",
    "Further using $\\cos A\\cos B = \\frac{1}{2}\\left(\\cos(A-B) + \\cos(A+B)\\right)$, we can show that the above integral is zero.\n",
    "2. $(T_{n},T_{n})_{w}$ is $C_{0} = \\pi$ if $n=0$; $C_{n} = \\pi/2$ if $n \\neq 0$."
   ]
  },
  {
   "cell_type": "markdown",
   "metadata": {
    "slideshow": {
     "slide_type": "subslide"
    }
   },
   "source": [
    "Finally, Chebyshev series of a function $f \\in L^{2}_{w}$ is\n",
    "\\begin{equation}\n",
    " Cf = \\sum_{k=0}^{\\infty} \\hat{f}_{k} T_{k},\\ \\hat{f}_{k} = \\frac{1}{C_{k}}\\int_{-1}^{1}f(x)T_{k}(x)\\frac{1}{\\sqrt{1-x^{2}}}dx.\n",
    "\\end{equation}\n",
    "\n",
    "What about $f'$? It is equal to $Cf' = \\sum_{k=0}^{\\infty} \\hat{f}_{k} T'_{k}$ and deriavtives of a polynomial are easy to get."
   ]
  },
  {
   "cell_type": "markdown",
   "metadata": {},
   "source": [
    "#### Example\n",
    "Let's try to approximate the function, $f(x) = \\sqrt{1-x^{2}}$ with Chebyshev polynomials.\n",
    "The first derivative is $f'(x) = -x/\\sqrt{1-x^{2}}$.\n",
    "\\begin{equation}\n",
    "\\begin{split}\n",
    "Cf(x) &= \\hat{t}_{0}T_{0} + \\hat{t}_{1}T_{1} + \\hat{t}_{2}T_{2} + \\cdots, \\\\\n",
    "(Cf)'(x) &= \\hat{t}_{0}T'_{0} + \\hat{t}_{1}T'_{1} + \\hat{t}_{2}T'_{2} + \\cdots = \\hat{t}_{1} + \\hat{t}_{2}(4x) + \\cdots, \\\\\n",
    "\\end{split}\n",
    "\\end{equation}\n",
    "where\n",
    "\\begin{equation}\n",
    "\\hat{t}_{0} = \\frac{\\int_{-1}^{1}f(x)T_{0}w\\,dx}{\\int_{-1}^{1}T_{0}T_{0}w\\,dx} = \\frac{2}{\\int_{-1}^{1}\\frac{1}{\\sqrt{1-x^{2}}}\\,dx} = \\frac{2}{\\pi},\n",
    "\\end{equation}\n",
    "\n",
    "\\begin{equation}\n",
    "\\hat{t}_{1} = \\frac{\\int_{-1}^{1}f(x)T_{1}w\\,dx}{\\int_{-1}^{1}T_{1}T_{1}w\\,dx} = 0,\n",
    "\\end{equation}\n",
    "\n",
    "and\n",
    "\\begin{equation}\n",
    "\\hat{t}_{2} = \\frac{\\int_{-1}^{1}f(x)T_{2}w\\,dx}{\\int_{-1}^{1}T_{2}T_{2}w\\,dx} = \\frac{\\int_{-1}^{1} (2x^{2}-1)dx}{\\int_{-1}^{1}(2x^{2}-1)^{2}\\frac{1}{\\sqrt{1-x^{2}}}\\,dx} = -\\frac{4}{3\\pi}.\n",
    "\\end{equation}\n"
   ]
  },
  {
   "cell_type": "code",
   "execution_count": 10,
   "metadata": {},
   "outputs": [
    {
     "data": {
      "text/plain": [
       "<matplotlib.legend.Legend at 0x7f1f59191ed0>"
      ]
     },
     "execution_count": 10,
     "metadata": {},
     "output_type": "execute_result"
    },
    {
     "data": {
      "image/png": "[encoded data removed]",
      "text/plain": [
       "<Figure size 432x288 with 1 Axes>"
      ]
     },
     "metadata": {
      "needs_background": "light"
     },
     "output_type": "display_data"
    }
   ],
   "source": [
    "plt.plot(x, np.sqrt(1-x**2), 'k-', label='sqrt(1+x^2)')\n",
    "plt.plot(x, 2.0/np.pi*np.ones(x.size), 'g-', label='1st term')\n",
    "plt.plot(x, 2.0/np.pi - 4.0/(3.0*np.pi)*(2.0*x**2-1.0), 'r-', label='1st+2nd term')\n",
    "plt.legend()"
   ]
  },
  {
   "cell_type": "code",
   "execution_count": 11,
   "metadata": {},
   "outputs": [
    {
     "name": "stdout",
     "output_type": "stream",
     "text": [
      "Exact and approximate values: 5.773503e-01 8.488264e-01\n",
      "Exact and approximate values: -0.000000e+00 -0.000000e+00\n",
      "Exact and approximate values: -5.773503e-01 -8.488264e-01\n"
     ]
    }
   ],
   "source": [
    "def fprime(x):\n",
    "    return -x/np.sqrt(1-x**2)\n",
    "\n",
    "def Cfprime(x):\n",
    "    return -16/(3.0*np.pi)*x\n",
    "\n",
    "xvalues = np.array([-0.5,0.0,0.5])\n",
    "for xval in xvalues:\n",
    "    print(\"Exact and approximate values: {0:e} {1:e}\".format(fprime(xval), Cfprime(xval)) )"
   ]
  },
  {
   "cell_type": "markdown",
   "metadata": {
    "slideshow": {
     "slide_type": "subslide"
    }
   },
   "source": [
    "### Example 2: Legendre polynomials\n",
    "\n",
    "With the weighting function\n",
    "\\begin{equation}\n",
    " w(x) = 1\n",
    "\\end{equation}\n",
    "the function space we will be working on becomes\n",
    "\\begin{equation}\n",
    " L_{w}^{2}(-1,1) = \\left\\{ f:(-1,1)\\rightarrow \\mathbb{R} \\vert \\int_{-1}^{1} f^{2}(x)dx < \\infty \\right\\}\n",
    "\\end{equation}\n",
    "\n",
    "\\begin{equation}\n",
    "(f,g) = \\int_{-1}^{1} f(x)g(x)dx, \\Vert f \\Vert = (f,f)^{1/2} = \\left( \\int_{-1}^{1} f^{2}(x) dx \\right)^{1/2}\n",
    "\\end{equation}"
   ]
  },
  {
   "cell_type": "markdown",
   "metadata": {
    "slideshow": {
     "slide_type": "subslide"
    }
   },
   "source": [
    "The Legendre polynomials are defined as follows:\n",
    "\\begin{equation}\n",
    " L_{k}(x) = \\frac{1}{2^{k}}\\sum_{l=0}^{[k/2]}(-1)^{l}\n",
    " \\begin{pmatrix}\n",
    " k\\\\\n",
    " l\n",
    " \\end{pmatrix}\n",
    "  \\begin{pmatrix}\n",
    " 2k-2l\\\\\n",
    " k\n",
    " \\end{pmatrix}\n",
    " x^{k-2l}, \\quad k=0,1,\\cdots\n",
    "\\end{equation}\n",
    "where $[k/2]$ is the integral part of $k/2$ and \n",
    "\\begin{equation}\n",
    "\\begin{pmatrix}\n",
    "k \\\\\n",
    "l\n",
    "\\end{pmatrix}\n",
    "= \\frac{k!}{l!(k-l)!}.\n",
    "\\end{equation}\n",
    "\n",
    "The recursive formula are\n",
    "\\begin{equation}\n",
    "\\begin{split}\n",
    " &L_{k+1}(x) = \\frac{2k+1}{k+1}xL_{k}(x) - \\frac{k}{k+1}T_{k-1}(x),\\ k=1,2,\\cdots \\\\\n",
    " &L_{0}(x) = 1, L_{1}(x) = x.\n",
    "\\end{split}\n",
    "\\end{equation}\n",
    "\n",
    "#### Examples\n",
    "\\begin{equation}\n",
    "\\begin{split}\n",
    "L_{2} &= \\frac{3}{2}x^{2} - \\frac{1}{2} \\\\\n",
    "L_{3} &= \\frac{5}{2}x^{3} - \\frac{3}{2}x \\\\\n",
    "&\\vdots\n",
    "\\end{split}\n",
    "\\end{equation}"
   ]
  },
  {
   "cell_type": "code",
   "execution_count": 12,
   "metadata": {
    "slideshow": {
     "slide_type": "subslide"
    }
   },
   "outputs": [
    {
     "data": {
      "text/plain": [
       "<matplotlib.legend.Legend at 0x7f1f5916e490>"
      ]
     },
     "execution_count": 12,
     "metadata": {},
     "output_type": "execute_result"
    },
    {
     "data": {
      "image/png": "[encoded data removed]",
      "text/plain": [
       "<Figure size 432x288 with 1 Axes>"
      ]
     },
     "metadata": {
      "needs_background": "light"
     },
     "output_type": "display_data"
    }
   ],
   "source": [
    "plt.plot(x, np.zeros(x.size),'y--')\n",
    "plt.plot(x, np.ones(x.size), 'r-', label='L0')\n",
    "plt.plot(x, x, 'g-', label='L1')\n",
    "plt.plot(x,1.5*x**2-0.5, 'b-', label='L2')\n",
    "plt.plot(x,2.5*x**3-1.5*x, 'k-', label='L3')\n",
    "plt.legend()\n"
   ]
  },
  {
   "cell_type": "markdown",
   "metadata": {
    "slideshow": {
     "slide_type": "subslide"
    }
   },
   "source": [
    "- Orthogonality: $(L_{k},L_{m}) = \\delta_{km}\\left(k+\\frac{1}{2}\\right)^{-1}$, $k, m=0,1,2,\\cdots$.\n",
    "- Legendre series of $f \\in L_{2}$:\n",
    "\\begin{equation}\n",
    " Lf = \\sum_{k=0}^{\\infty} \\hat{f}_{k}L_{k} \\text{ with } \\hat{f}_{k} = \\left( k+\\frac{1}{2} \\right)\\int_{-1}^{1} f(x)L_{k}(x) dx.\n",
    "\\end{equation}\n",
    "- $(Lf)' = \\sum_{k=0}^{\\infty} \\hat{f}_{k}L'_{k}$."
   ]
  },
  {
   "cell_type": "markdown",
   "metadata": {
    "slideshow": {
     "slide_type": "subslide"
    }
   },
   "source": [
    "- So far so good: If a function can be represented by a generalized Fourier series, the differentiation of the function is given as a sum of derivatives of polynomials.\n",
    "\n",
    "- However, our assumption was that $f(x)$ is known only at nodes $x_{k}$'s.\n",
    "\n",
    "- Therefore, numerical integration is needed in evaluating the integral for the coefficients."
   ]
  }
 ],
 "metadata": {
  "celltoolbar": "Slideshow",
  "kernelspec": {
   "display_name": "Python 3",
   "language": "python",
   "name": "python3"
  },
  "language_info": {
   "codemirror_mode": {
    "name": "ipython",
    "version": 3
   },
   "file_extension": ".py",
   "mimetype": "text/x-python",
   "name": "python",
   "nbconvert_exporter": "python",
   "pygments_lexer": "ipython3",
   "version": "3.7.4"
  }
 },
 "nbformat": 4,
 "nbformat_minor": 4
}